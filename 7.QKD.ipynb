{
 "cells": [
  {
   "cell_type": "code",
   "execution_count": 1,
   "id": "69694719",
   "metadata": {},
   "outputs": [],
   "source": [
    "import matplotlib.pyplot as plt\n",
    "import numpy as np\n",
    "from numpy.random import randint\n",
    "from qiskit import QuantumRegister, ClassicalRegister, QuantumCircuit, execute, Aer, IBMQ, transpile, assemble\n",
    "from qiskit.providers.aer.noise import NoiseModel\n",
    "from qiskit.providers.aer.noise.errors import pauli_error, depolarizing_error\n",
    "\n",
    "aer_sim = Aer.get_backend('aer_simulator')\n",
    "\n",
    "error_meas_free  = pauli_error([('I', 1)])\n",
    "noise_model_free = NoiseModel()\n",
    "noise_model_free.add_all_qubit_quantum_error(error_meas_free, \"measure\")\n",
    "\n",
    "eps = 0.04\n",
    "error_meas  = pauli_error([('X', eps), ('Z', eps), ('I', 1 - 2 * eps)])\n",
    "noise_model = NoiseModel()\n",
    "noise_model.add_all_qubit_quantum_error(error_meas, \"measure\")"
   ]
  },
  {
   "cell_type": "code",
   "execution_count": 2,
   "id": "761dda30",
   "metadata": {},
   "outputs": [],
   "source": [
    "def comp_error_rate(b1, s1, b2, s2):\n",
    "    n = 0\n",
    "    d = 0\n",
    "    for idx in range(len(b1)):\n",
    "        if (b1[idx] == b2[idx]):\n",
    "            n = n + 1\n",
    "            if (s1[idx] != s2[idx]):\n",
    "                d = d + 1\n",
    "    return d / n"
   ]
  },
  {
   "cell_type": "code",
   "execution_count": 3,
   "id": "bf8d9752",
   "metadata": {},
   "outputs": [],
   "source": [
    "# Basis: 0 for X\n",
    "#        1 for Z\n",
    "# State: 0 for |0> or |+>\n",
    "#        1 for |1> or |->\n",
    "\n",
    "def bb84(n, noise_model):    \n",
    "    # Alice generate x, sa\n",
    "    x  = randint(2, size = n)\n",
    "    sa = randint(2, size = n)\n",
    "\n",
    "    # Bob generate y\n",
    "    y  = randint(2, size = n)\n",
    "    sb = np.array([0] * n)\n",
    "\n",
    "    key = []\n",
    "\n",
    "    # Exchange \n",
    "    for idx in range(n):\n",
    "        # Alice init the basis\n",
    "        circ = QuantumCircuit(1, 1)\n",
    "        if   x[idx] == 0 and sa[idx] == 0:  # |+>\n",
    "                circ.h(0)\n",
    "        elif x[idx] == 0 and sa[idx] == 1:  # |->\n",
    "                circ.x(0)\n",
    "                circ.h(0)\n",
    "        elif x[idx] == 1 and sa[idx] == 0:  # |0>\n",
    "                pass\n",
    "        elif x[idx] == 1 and sa[idx] == 1:  # |1>\n",
    "                circ.x(0)\n",
    "\n",
    "        circ.barrier(0)\n",
    "\n",
    "        # Bob measurement\n",
    "        if y[idx] == 0:\n",
    "            circ.h(0)\n",
    "        circ.measure(0, 0)\n",
    "\n",
    "        #print(x[idx], sa[idx])\n",
    "        #print(circ) #.draw(output = 'mpl')\n",
    "\n",
    "        # Simulateion\n",
    "        t_circ = transpile(circ, aer_sim)\n",
    "        qobj   = assemble(t_circ)\n",
    "        job    = aer_sim.run(qobj, noise_model = noise_model, shots = 1, memory=True)\n",
    "        res    = job.result().get_memory(circ)[0]\n",
    "        \n",
    "        sb[idx] = 0 if (res == '0') else 1\n",
    "\n",
    "    rate_b = comp_error_rate(x, sa, y, sb)\n",
    "    \n",
    "    for idx in range(n):\n",
    "        if (x[idx] == y[idx]):\n",
    "            key = key + [sa[idx]]\n",
    "    \n",
    "    return (x, sa, y, sb, rate_b, key)"
   ]
  },
  {
   "cell_type": "code",
   "execution_count": 4,
   "id": "24d02972",
   "metadata": {},
   "outputs": [],
   "source": [
    "def bb84_eve(n, noise_model):    \n",
    "    # Alice generate x, sa\n",
    "    x  = randint(2, size = n)\n",
    "    sa = randint(2, size = n)\n",
    "\n",
    "    # Eva generate z\n",
    "    z  = randint(2, size = n)\n",
    "    sz = np.array([0] * n)\n",
    "    \n",
    "    # Bob generate y\n",
    "    y  = randint(2, size = n)\n",
    "    sb = np.array([0] * n)\n",
    "\n",
    "    key = []\n",
    "\n",
    "    # Exchange \n",
    "    for idx in range(n):\n",
    "        # Alice init the basis\n",
    "        circ = QuantumCircuit(1, 2)\n",
    "        if   x[idx] == 0 and sa[idx] == 0:  # |+>\n",
    "                circ.h(0)\n",
    "        elif x[idx] == 0 and sa[idx] == 1:  # |->\n",
    "                circ.x(0)\n",
    "                circ.h(0)\n",
    "        elif x[idx] == 1 and sa[idx] == 0:  # |0>\n",
    "                pass\n",
    "        elif x[idx] == 1 and sa[idx] == 1:  # |1>\n",
    "                circ.x(0)\n",
    "\n",
    "        circ.barrier(0)\n",
    "\n",
    "        # Eva measurement and set qubit to the corresponding basis\n",
    "        if z[idx] == 0:\n",
    "            circ.h(0)\n",
    "        circ.measure(0, 1)\n",
    "        if z[idx] == 0:\n",
    "            circ.h(0)\n",
    "\n",
    "        circ.barrier(0)\n",
    "        \n",
    "        # Bob measurement\n",
    "        if y[idx] == 0:\n",
    "            circ.h(0)\n",
    "        circ.measure(0, 0)\n",
    "\n",
    "        #print(x[idx], sa[idx])\n",
    "        #print(circ) #.draw(output = 'mpl')\n",
    "\n",
    "        # Simulateion\n",
    "        t_circ = transpile(circ, aer_sim)\n",
    "        qobj   = assemble(t_circ)\n",
    "        job    = aer_sim.run(qobj, noise_model = noise_model, shots = 1, memory = True)\n",
    "        res    = job.result().get_memory(circ)[0]\n",
    "        \n",
    "        sb[idx] = 0 if (res[1] == '0') else 1\n",
    "        sz[idx] = 0 if (res[0] == '0') else 1\n",
    "        \n",
    "    rate_b = comp_error_rate(x, sa, y, sb)\n",
    "    rate_e = comp_error_rate(x, sa, z, sz)\n",
    "    \n",
    "    for idx in range(n):\n",
    "        if (x[idx] == y[idx]):\n",
    "            key = key + [sa[idx]]\n",
    "    \n",
    "    return (x, sa, y, sb, rate_b, z, sz, rate_e, key)"
   ]
  },
  {
   "cell_type": "markdown",
   "id": "c680b6e4",
   "metadata": {},
   "source": [
    "# EAP A"
   ]
  },
  {
   "cell_type": "code",
   "execution_count": 5,
   "id": "5ce86827",
   "metadata": {},
   "outputs": [
    {
     "name": "stderr",
     "output_type": "stream",
     "text": [
      "/home/xuan/.local/lib/python3.9/site-packages/qiskit/utils/deprecation.py:62: DeprecationWarning: Using a qobj for run() is deprecated as of qiskit-aer 0.9.0 and will be removed no sooner than 3 months from that release date. Transpiled circuits should now be passed directly using `backend.run(circuits, **run_options).\n",
      "  return func(*args, **kwargs)\n"
     ]
    },
    {
     "name": "stdout",
     "output_type": "stream",
     "text": [
      "error rate = 0.0\n",
      "key        = [0, 1, 0, 0, 1, 0, 0, 1, 1, 1, 0, 1, 1, 1, 0, 1, 0, 1, 1, 0]\n",
      "  x| sa|  y| sb\n",
      "---------------\n",
      "  0|  0|  0|  0\n",
      "  1|  1|  0|  1\n",
      "  0|  0|  1|  1\n",
      "  0|  1|  0|  1\n",
      "  0|  0|  0|  0\n",
      "  1|  0|  1|  0\n",
      "  1|  1|  1|  1\n",
      "  1|  0|  1|  0\n",
      "  0|  0|  1|  1\n",
      "  1|  0|  1|  0\n",
      "  0|  1|  0|  1\n",
      "  1|  0|  0|  1\n",
      "  0|  1|  1|  0\n",
      "  1|  1|  1|  1\n",
      "  0|  1|  0|  1\n",
      "  1|  0|  0|  1\n",
      "  0|  0|  1|  1\n",
      "  1|  0|  1|  0\n",
      "  0|  1|  0|  1\n",
      "  1|  0|  0|  0\n",
      "  1|  1|  0|  1\n",
      "  0|  1|  1|  0\n",
      "  1|  1|  1|  1\n",
      "  0|  1|  1|  1\n",
      "  1|  1|  1|  1\n",
      "  0|  0|  0|  0\n",
      "  1|  0|  0|  1\n",
      "  1|  0|  0|  1\n",
      "  1|  1|  1|  1\n",
      "  0|  0|  1|  0\n",
      "  0|  0|  0|  0\n",
      "  0|  0|  1|  0\n",
      "  1|  1|  0|  0\n",
      "  0|  1|  0|  1\n",
      "  0|  1|  0|  1\n",
      "  0|  0|  0|  0\n",
      "  0|  1|  1|  1\n",
      "  0|  0|  1|  0\n",
      "  0|  0|  1|  1\n",
      "  1|  0|  0|  1\n"
     ]
    }
   ],
   "source": [
    "n = 40\n",
    "(x, sa, y, sb, rate_b, key) = bb84(40, noise_model_free)\n",
    "print(f\"error rate = {rate_b}\")\n",
    "print(f\"key        = {key}\")\n",
    "print(\"  x| sa|  y| sb\")\n",
    "print(\"---------------\")\n",
    "for idx in range(n):\n",
    "    print(f\"  {x[idx]}|  {sa[idx]}|  {y[idx]}|  {sb[idx]}\")"
   ]
  },
  {
   "cell_type": "markdown",
   "id": "858f6a84",
   "metadata": {},
   "source": [
    "# EXP B"
   ]
  },
  {
   "cell_type": "code",
   "execution_count": 6,
   "id": "b11e05e3",
   "metadata": {},
   "outputs": [
    {
     "data": {
      "image/png": "[encoded data removed]",
      "text/plain": [
       "<Figure size 432x288 with 1 Axes>"
      ]
     },
     "metadata": {
      "needs_background": "light"
     },
     "output_type": "display_data"
    }
   ],
   "source": [
    "rate_b = []\n",
    "for n in range(10, 500, 10):\n",
    "    _, _, _, _, tmp, _ = bb84(n, noise_model)\n",
    "    rate_b += [tmp]\n",
    "plt.plot([0, 500], [0.04, 0.04])\n",
    "plt.plot(range(10, 500, 10), rate_b)\n",
    "plt.show()"
   ]
  },
  {
   "cell_type": "markdown",
   "id": "f7b7133e",
   "metadata": {},
   "source": [
    "# EXP C"
   ]
  },
  {
   "cell_type": "code",
   "execution_count": 7,
   "id": "eda6ff39",
   "metadata": {},
   "outputs": [
    {
     "name": "stdout",
     "output_type": "stream",
     "text": [
      "Bob's error rate = 0.2222222222222222\n",
      "Eve's error rate = 0.0\n",
      "key              = [0, 1, 0, 1, 1, 0, 0, 1, 1, 1, 1, 0, 1, 1, 0, 1, 0, 1, 1, 1, 0, 1, 0, 1, 0, 1, 0]\n",
      "  x| sa|  y| sb|  z| sz\n",
      "-----------------------\n",
      "  0|  1|  1|  0|  0|  1\n",
      "  1|  0|  1|  1|  0|  0\n",
      "  0|  0|  1|  1|  0|  0\n",
      "  0|  1|  0|  1|  0|  1\n",
      "  1|  0|  1|  0|  1|  0\n",
      "  1|  1|  1|  1|  1|  1\n",
      "  1|  1|  1|  1|  0|  1\n",
      "  1|  1|  0|  1|  1|  1\n",
      "  0|  0|  1|  0|  0|  0\n",
      "  1|  0|  1|  0|  0|  1\n",
      "  0|  1|  1|  0|  1|  0\n",
      "  1|  0|  1|  0|  1|  0\n",
      "  1|  1|  0|  1|  0|  1\n",
      "  1|  1|  0|  0|  0|  0\n",
      "  1|  0|  0|  1|  0|  1\n",
      "  1|  1|  0|  1|  0|  1\n",
      "  1|  1|  0|  1|  1|  1\n",
      "  0|  0|  1|  1|  0|  0\n",
      "  1|  1|  1|  1|  1|  1\n",
      "  0|  1|  0|  0|  1|  0\n",
      "  0|  1|  0|  1|  1|  0\n",
      "  1|  1|  1|  1|  1|  1\n",
      "  0|  0|  0|  0|  0|  0\n",
      "  0|  1|  0|  0|  1|  0\n",
      "  1|  1|  1|  1|  1|  1\n",
      "  0|  0|  0|  0|  0|  0\n",
      "  0|  1|  0|  1|  0|  1\n",
      "  1|  0|  1|  0|  1|  0\n",
      "  0|  1|  0|  0|  1|  1\n",
      "  1|  1|  1|  0|  0|  1\n",
      "  1|  1|  1|  1|  1|  1\n",
      "  0|  0|  0|  0|  0|  0\n",
      "  1|  1|  1|  1|  1|  1\n",
      "  0|  0|  0|  1|  1|  1\n",
      "  0|  0|  1|  0|  1|  0\n",
      "  0|  1|  0|  1|  0|  1\n",
      "  0|  0|  0|  0|  1|  1\n",
      "  1|  1|  1|  1|  1|  1\n",
      "  1|  1|  0|  1|  0|  1\n",
      "  1|  0|  1|  0|  0|  0\n"
     ]
    }
   ],
   "source": [
    "n = 40\n",
    "(x, sa, y, sb, rate_b, z, sz, rate_e, key) = bb84_eve(40, noise_model_free)\n",
    "print(f\"Bob's error rate = {rate_b}\")\n",
    "print(f\"Eve's error rate = {rate_e}\")\n",
    "print(f\"key              = {key}\")\n",
    "print(\"  x| sa|  y| sb|  z| sz\")\n",
    "print(\"-----------------------\")\n",
    "for idx in range(n):\n",
    "    print(f\"  {x[idx]}|  {sa[idx]}|  {y[idx]}|  {sb[idx]}|  {z[idx]}|  {sz[idx]}\")"
   ]
  },
  {
   "cell_type": "code",
   "execution_count": 8,
   "id": "6af70687",
   "metadata": {},
   "outputs": [
    {
     "data": {
      "image/png": "[encoded data removed]",
      "text/plain": [
       "<Figure size 432x288 with 1 Axes>"
      ]
     },
     "metadata": {
      "needs_background": "light"
     },
     "output_type": "display_data"
    }
   ],
   "source": [
    "rate_b = []\n",
    "rate_e = []\n",
    "for n in range(10, 500, 10):\n",
    "    _, _, _, _, tmp1, _, _, tmp2, _ = bb84_eve(n, noise_model)\n",
    "    rate_b += [tmp1]\n",
    "    rate_e += [tmp2]\n",
    "plt.plot([0, 500], [0.04, 0.04])\n",
    "plt.plot([0, 500], [0.2884, 0.2884])\n",
    "plt.plot(range(10, 500, 10), rate_b)\n",
    "plt.plot(range(10, 500, 10), rate_e)\n",
    "plt.show()"
   ]
  },
  {
   "cell_type": "code",
   "execution_count": null,
   "id": "d3411c8a",
   "metadata": {},
   "outputs": [],
   "source": []
  }
 ],
 "metadata": {
  "kernelspec": {
   "display_name": "Python 3",
   "language": "python",
   "name": "python3"
  },
  "language_info": {
   "codemirror_mode": {
    "name": "ipython",
    "version": 3
   },
   "file_extension": ".py",
   "mimetype": "text/x-python",
   "name": "python",
   "nbconvert_exporter": "python",
   "pygments_lexer": "ipython3",
   "version": "3.9.7"
  }
 },
 "nbformat": 4,
 "nbformat_minor": 5
}
